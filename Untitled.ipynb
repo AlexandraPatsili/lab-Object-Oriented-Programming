{
 "cells": [
  {
   "cell_type": "code",
   "execution_count": 1,
   "id": "1303c4a2",
   "metadata": {},
   "outputs": [],
   "source": [
    "volume_list = [x/10 for x in range(0,1000,1)]"
   ]
  },
  {
   "cell_type": "code",
   "execution_count": 3,
   "id": "35f3dca4",
   "metadata": {},
   "outputs": [],
   "source": [
    "class TV():\n",
    "    def __init__(self,on,volume,active_channel,input,size):\n",
    "        self.on = on\n",
    "        self.volume = volume\n",
    "        self.active_channel=active_channel\n",
    "        self.input = input\n",
    "        self.size = size"
   ]
  },
  {
   "cell_type": "code",
   "execution_count": 9,
   "id": "a752d927",
   "metadata": {},
   "outputs": [],
   "source": [
    "def switch_on(self):\n",
    "        if self.on == False: \n",
    "            self.on = True\n",
    "            print(\"The TV is switched on.\")\n",
    "        else: \n",
    "            print(\"The TV is already on.\")"
   ]
  },
  {
   "cell_type": "code",
   "execution_count": 10,
   "id": "5654d2d7",
   "metadata": {},
   "outputs": [],
   "source": [
    " def switch_on(self):\n",
    "        if self.on == True: \n",
    "            self.on = False\n",
    "            print(\"TV is switched off.\")\n",
    "        else: \n",
    "            print(\"TV is already off.\")"
   ]
  },
  {
   "cell_type": "code",
   "execution_count": 11,
   "id": "2f9fe0fc",
   "metadata": {},
   "outputs": [],
   "source": [
    " def set_volume(self,volume):\n",
    "        if volume not in volume_list:\n",
    "            print(\"Change the volume within 0.0-100.0 with the smallest value of 0.1!\")\n",
    "        else: \n",
    "            self.volume = volume\n",
    "            print(\"Volume is\"+str(volume))"
   ]
  },
  {
   "cell_type": "code",
   "execution_count": 12,
   "id": "fdf2bdff",
   "metadata": {},
   "outputs": [],
   "source": [
    "def change_channel(self,active_channel):\n",
    "        if active_channel not in range(1,11):\n",
    "            print(\"We have 10 channels. Choose between 1-10!\")\n",
    "        elif self.active_channel==active_channel:\n",
    "            print(\"Current channel. Choose between 1-10!\")\n",
    "        else: \n",
    "            self.active_channel=active_channel\n",
    "            print(\"The channel is switched to \"+str(active_channel))    \n"
   ]
  },
  {
   "cell_type": "code",
   "execution_count": 13,
   "id": "e62f4d47",
   "metadata": {},
   "outputs": [],
   "source": [
    " def set_input(self,x):\n",
    "        if str(x) not in [\"Anthena\", \"HDMI1\", \"HDMI2\", \"HDMI3\"]:\n",
    "            print(\"Please choose. The choices are: 'Anthena','HDMI1', 'HDMI2', 'HDMI3'\")\n",
    "        elif self.input == str(x): \n",
    "            print(\"You are currently here. If you want to change, choose another option.\")\n",
    "        else: \n",
    "            self.input = str(x)\n",
    "            print(\"Now you have selected\"+str(x))"
   ]
  },
  {
   "cell_type": "code",
   "execution_count": null,
   "id": "f22a0e53",
   "metadata": {},
   "outputs": [],
   "source": []
  }
 ],
 "metadata": {
  "kernelspec": {
   "display_name": "Python 3 (ipykernel)",
   "language": "python",
   "name": "python3"
  },
  "language_info": {
   "codemirror_mode": {
    "name": "ipython",
    "version": 3
   },
   "file_extension": ".py",
   "mimetype": "text/x-python",
   "name": "python",
   "nbconvert_exporter": "python",
   "pygments_lexer": "ipython3",
   "version": "3.9.13"
  }
 },
 "nbformat": 4,
 "nbformat_minor": 5
}
